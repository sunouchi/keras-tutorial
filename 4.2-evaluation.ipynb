{
 "cells": [
  {
   "cell_type": "code",
   "execution_count": 4,
   "metadata": {},
   "outputs": [
    {
     "ename": "NameError",
     "evalue": "name 'get_model' is not defined",
     "output_type": "error",
     "traceback": [
      "\u001b[0;31m---------------------------------------------------------------------------\u001b[0m",
      "\u001b[0;31mNameError\u001b[0m                                 Traceback (most recent call last)",
      "\u001b[0;32m<ipython-input-4-2ce5d6028a08>\u001b[0m in \u001b[0;36m<module>\u001b[0;34m()\u001b[0m\n\u001b[1;32m     16\u001b[0m \u001b[0;34m\u001b[0m\u001b[0m\n\u001b[1;32m     17\u001b[0m \u001b[0;31m# モデルを訓練データで訓練し、検証データで評価\u001b[0m\u001b[0;34m\u001b[0m\u001b[0;34m\u001b[0m\u001b[0m\n\u001b[0;32m---> 18\u001b[0;31m \u001b[0mmodel\u001b[0m \u001b[0;34m=\u001b[0m \u001b[0mget_model\u001b[0m\u001b[0;34m(\u001b[0m\u001b[0;34m)\u001b[0m\u001b[0;34m\u001b[0m\u001b[0m\n\u001b[0m\u001b[1;32m     19\u001b[0m \u001b[0mmodel\u001b[0m\u001b[0;34m.\u001b[0m\u001b[0mtrain\u001b[0m\u001b[0;34m(\u001b[0m\u001b[0mtraining_data\u001b[0m\u001b[0;34m)\u001b[0m\u001b[0;34m\u001b[0m\u001b[0m\n\u001b[1;32m     20\u001b[0m \u001b[0mvalidation_score\u001b[0m \u001b[0;34m=\u001b[0m \u001b[0mmodel\u001b[0m\u001b[0;34m.\u001b[0m\u001b[0mevaluate\u001b[0m\u001b[0;34m(\u001b[0m\u001b[0mvalidation_data\u001b[0m\u001b[0;34m)\u001b[0m\u001b[0;34m\u001b[0m\u001b[0m\n",
      "\u001b[0;31mNameError\u001b[0m: name 'get_model' is not defined"
     ]
    }
   ],
   "source": [
    "# 4.2.1 訓練データセット、検証データセット、テストデータセット\n",
    "# 注）実装例を書いているため、変数や関数に未定義のものがある。エラーがあるが、気にしない。\n",
    "import numpy as np\n",
    "\n",
    "# リスト 4-1: ホールドアウト法\n",
    "num_validation_samples = 10000\n",
    "\n",
    "# 通常はデータをシャッフルするのが適している\n",
    "np.random.shuffle(data)\n",
    "\n",
    "# 検証データセットを定義\n",
    "validation_data = data[:num_validation_samples]\n",
    "data = data[num_validation_samples:]\n",
    "# 訓練データセットを定義\n",
    "training_data = data[:]\n",
    "\n",
    "# モデルを訓練データで訓練し、検証データで評価\n",
    "model = get_model()\n",
    "model.train(training_data)\n",
    "validation_score = model.evaluate(validation_data)\n",
    "\n",
    "# この時点で、モデルのチューニング、再訓練、評価、再訓練、の繰り返しが可能となる。\n",
    "\n",
    "# ハイパーパラメータのチューニングが済んだら、\n",
    "# テストに全く使用していないデータで最終的なモデルの訓練を行うのが一般的\n",
    "model = get_model()\n",
    "model.train(np.concatenate([training_data, validation_data]))\n",
    "test_score = model.evaluate(test_data)"
   ]
  },
  {
   "cell_type": "code",
   "execution_count": null,
   "metadata": {},
   "outputs": [],
   "source": [
    "# リスト 4-2: k分割交差検証\n",
    "k = 4\n",
    "num_validation_samples = len(data) // k\n",
    "np.random.shuffle(data)\n",
    "validation_scores = []\n",
    "\n",
    "for fold in range(k):\n",
    "    # 検証データを選択\n",
    "    validation_data = data[num_validation_samples * fold: \n",
    "                           num_validation_samples * (fold + 1)]\n",
    "    \n",
    "    # 残りのデータは訓練データとして使用\n",
    "    # +演算子は合計を求めるのではなく、リストの連結を行うことに注意\n",
    "    training_data = data[:num_validation_samples * fold] +\n",
    "                    data[num_validation_samples * (fold + 1):]\n",
    "        \n",
    "    # モデルの全く新しいインスタンスを作成\n",
    "    model = get_model()\n",
    "    # モデルを訓練\n",
    "    model.train(training_data)\n",
    "    \n",
    "    # 検証スコアはk個のフォールドの検証スコアの平均\n",
    "    validation_score = model.evaluate(validation_data)\n",
    "    validation_scores.append(validation_score)\n",
    "    validation_score = np.average(validation_scores)\n",
    "    \n",
    "    # テストに全く使用していないデータで最終的なモデルを訓練\n",
    "    model = get_model()\n",
    "    model.train(data)\n",
    "    test_score = model.evaluate(test_data)"
   ]
  }
 ],
 "metadata": {
  "kernelspec": {
   "display_name": "Python 3",
   "language": "python",
   "name": "python3"
  },
  "language_info": {
   "codemirror_mode": {
    "name": "ipython",
    "version": 3
   },
   "file_extension": ".py",
   "mimetype": "text/x-python",
   "name": "python",
   "nbconvert_exporter": "python",
   "pygments_lexer": "ipython3",
   "version": "3.6.4"
  },
  "nav_menu": {},
  "toc": {
   "navigate_menu": true,
   "number_sections": true,
   "sideBar": true,
   "threshold": 6,
   "toc_cell": false,
   "toc_section_display": "block",
   "toc_window_display": false
  }
 },
 "nbformat": 4,
 "nbformat_minor": 2
}
