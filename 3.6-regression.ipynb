{
 "cells": [
  {
   "cell_type": "code",
   "execution_count": 8,
   "metadata": {},
   "outputs": [],
   "source": [
    "# 3.6.1 Boston Housing データセット\n",
    "\n",
    "# リスト 3-24: Boston Housing データセットの読み込み\n",
    "from keras.datasets import boston_housing\n",
    "\n",
    "(train_data, train_targets), (test_data, test_targets) = boston_housing.load_data()"
   ]
  },
  {
   "cell_type": "code",
   "execution_count": 19,
   "metadata": {},
   "outputs": [
    {
     "data": {
      "text/plain": [
       "(0.026154884944008285, 70.12556153846154)"
      ]
     },
     "execution_count": 19,
     "metadata": {},
     "output_type": "execute_result"
    }
   ],
   "source": [
    "# 3.6.2 データの準備\n",
    "import numpy as np\n",
    "\n",
    "# リスト 3-25: データの正規化\n",
    "# データセットにあるデータの値は異なる範囲を取っている\n",
    "# そのままニューラルネットワークに与えると問題なので正規化する\n",
    "mean = train_data.mean(axis=0)\n",
    "train_data -= mean\n",
    "std = train_data.std(axis=0)\n",
    "train_data /= std\n",
    "\n",
    "test_data -= mean\n",
    "test_data /= std\n",
    "\n",
    "# 正規化の結果「中心がゼロになる」と書いてあるが、中央値はゼロにならない\n",
    "# ちなみに平均も綺麗な値になっていない\n",
    "# np.median(train_data[0]), np.median(test_data[0])\n",
    "# np.mean(train_data[0]), np.mean(test_data[0])"
   ]
  },
  {
   "cell_type": "code",
   "execution_count": 41,
   "metadata": {},
   "outputs": [],
   "source": [
    "# 3.6.3 ニューラルネットワークの構築\n",
    "\n",
    "# リスト 3-26: モデルの定義\n",
    "from keras import models\n",
    "from keras import layers\n",
    "\n",
    "def build_model():\n",
    "    # 同じモデルを複数回インスタンス化する必要があるため\n",
    "    # モデルをインスタンス化するための関数を使用\n",
    "    model = models.Sequential()\n",
    "    model.add(layers.Dense(64, activation='relu', input_shape=(train_data.shape[1], )))\n",
    "    model.add(layers.Dense(64, activation='relu'))\n",
    "    # 出力層では活性化関数を使わない\n",
    "    # 活性化関数は出力値を 0~1 などに正規化するなどの働きをするので、スカラ値の場合は必要ない、というかやってはいけない\n",
    "    model.add(layers.Dense(1))\n",
    "    # 損失関数にMSE(平均二乗誤差)、指標にMAE(平均絶対誤差)を用いている\n",
    "    model.compile(optimizer='rmsprop', loss='mse', metrics=['mae'])\n",
    "    return model"
   ]
  },
  {
   "cell_type": "code",
   "execution_count": 45,
   "metadata": {},
   "outputs": [
    {
     "name": "stdout",
     "output_type": "stream",
     "text": [
      "processing fold # 0\n",
      "processing fold # 1\n",
      "processing fold # 2\n",
      "processing fold # 3\n"
     ]
    }
   ],
   "source": [
    "# リスト 3-27: k分割交差検証\n",
    "k = 4\n",
    "num_val_samples = len(train_data) // k\n",
    "num_epochs = 100\n",
    "all_scores = []\n",
    "for i in range(k):\n",
    "    print('processing fold #', i)\n",
    "    \n",
    "    # 検証データの準備: フォールドiのデータ\n",
    "    val_data = \\\n",
    "        train_data[i * num_val_samples: (i + 1) * num_val_samples]\n",
    "    val_targets = \\\n",
    "        train_targets[i * num_val_samples: (i+1) * num_val_samples]\n",
    "    # print(np.mean(val_data))\n",
    "    \n",
    "    # 訓練データの準備: 残りのフォールドのデータ\n",
    "    partial_train_data = np.concatenate(\n",
    "        [train_data[:i * num_val_samples],\n",
    "         train_data[(i+1) * num_val_samples:]],\n",
    "        axis=0)\n",
    "    partial_train_targets = np.concatenate(\n",
    "        [train_targets[:i * num_val_samples:],\n",
    "         train_targets[(i+1) * num_val_samples:]],\n",
    "        axis=0)\n",
    "    \n",
    "    # Kerasモデルを構築（コンパイル済み）\n",
    "    model = build_model()\n",
    "    \n",
    "    # モデルをサイレントモード(verbose=0)で適合\n",
    "    model.fit(partial_train_data,\n",
    "              partial_train_targets,\n",
    "              epochs=num_epochs,\n",
    "              batch_size=1,\n",
    "              verbose=0)\n",
    "    \n",
    "    # モデルを検証データで評価\n",
    "    val_mse, val_mae = model.evaluate(val_data, val_targets, verbose=0)\n",
    "    all_scores.append(val_mae)"
   ]
  },
  {
   "cell_type": "code",
   "execution_count": 55,
   "metadata": {},
   "outputs": [
    {
     "name": "stdout",
     "output_type": "stream",
     "text": [
      "processing fold # 0\n",
      "processing fold # 1\n",
      "processing fold # 2\n",
      "processing fold # 3\n"
     ]
    }
   ],
   "source": [
    "np.mean(all_scores), all_scores\n",
    "\n",
    "# リスト 3-28: フォールドごとに検証ログを保存\n",
    "num_epochs = 500\n",
    "all_mae_histories = []\n",
    "for i in range(k):\n",
    "    # 検証データの準備: フォールドiのデータ\n",
    "    print('processing fold #', i)\n",
    "    val_data = \\\n",
    "        train_data[i * num_val_samples: (i+1) * num_val_samples]\n",
    "    val_targets = \\\n",
    "        train_targets[i * num_val_samples: (i+1) * num_val_samples]\n",
    "    \n",
    "    # 訓練データの準備: 残りのフォールドのデータ\n",
    "    partial_train_data = np.concatenate(\n",
    "        [train_data[:i * num_val_samples],\n",
    "         train_data[(i+1) * num_val_samples:]],\n",
    "        axis=0)\n",
    "    partial_train_targets = np.concatenate(\n",
    "        [train_targets[:i * num_val_samples],\n",
    "         train_targets[(i+1) * num_val_samples:]],\n",
    "        axis=0)\n",
    "    \n",
    "    # Kerasモデルを構築\n",
    "    model = build_model()\n",
    "    \n",
    "    # モデルをサイレントモード(verbose=0)で実行\n",
    "    history = model.fit(partial_train_data, partial_train_targets,\n",
    "                        validation_data=(val_data, val_targets),\n",
    "                        epochs=num_epochs, batch_size=1, verbose=0)\n",
    "    mae_history = history.history['val_mean_absolute_error']\n",
    "    all_mae_histories.append(mae_history)"
   ]
  },
  {
   "cell_type": "code",
   "execution_count": 69,
   "metadata": {},
   "outputs": [
    {
     "data": {
      "image/png": "[encoded data removed]",
      "text/plain": [
       "<Figure size 432x288 with 1 Axes>"
      ]
     },
     "metadata": {},
     "output_type": "display_data"
    }
   ],
   "source": [
    "# リスト 3-29: k分割交差検証の平均スコアの履歴を構築\n",
    "average_mae_history = [\n",
    "    np.mean([x[i] for x in all_mae_histories]) for i in range(num_epochs)\n",
    "]\n",
    "\n",
    "# リスト 3-30: 検証スコアのプロット\n",
    "import matplotlib.pyplot as plt\n",
    "\n",
    "plt.plot(range(1, len(average_mae_history) + 1), average_mae_history)\n",
    "plt.xlabel('Epochs')\n",
    "plt.ylabel('Validation MAE')\n",
    "plt.show()"
   ]
  },
  {
   "cell_type": "code",
   "execution_count": 70,
   "metadata": {},
   "outputs": [
    {
     "data": {
      "image/png": "[encoded data removed]",
      "text/plain": [
       "<Figure size 432x288 with 1 Axes>"
      ]
     },
     "metadata": {},
     "output_type": "display_data"
    }
   ],
   "source": [
    "# リスト 3-31: 最初の10個のデータ点を除外した検証スコアのプロット\n",
    "def smooth_curve(points, factor=0.9):\n",
    "    smoothed_points = []\n",
    "    for point in points:\n",
    "        if smoothed_points:\n",
    "            previous = smoothed_points[-1]\n",
    "            # 指数移動平均に置き換えることで、曲線を滑らかにする\n",
    "            smoothed_points.append(previous * factor + point * (1 - factor))\n",
    "        else:\n",
    "            smoothed_points.append(point)\n",
    "    return smoothed_points\n",
    "\n",
    "# 10個目までのデータを捨て、それ以降のデータは移動平均で滑らかにする\n",
    "smooth_mae_history = smooth_curve(average_mae_history[10:])\n",
    "\n",
    "plt.plot(range(1, len(smooth_mae_history) + 1), smooth_mae_history)\n",
    "plt.xlabel('Epochs')\n",
    "plt.ylabel('Validation MAE')\n",
    "plt.show()"
   ]
  },
  {
   "cell_type": "code",
   "execution_count": 73,
   "metadata": {},
   "outputs": [
    {
     "name": "stdout",
     "output_type": "stream",
     "text": [
      "102/102 [==============================] - 0s 1ms/step\n"
     ]
    }
   ],
   "source": [
    "# 前回のプロットからわかったのは、検証スコアが80エポックあたりが最も大きく改善されている\n",
    "# それ以降は過学習に陥っているということ\n",
    "# エポック数を調整して、最終的なモデルを作り直す\n",
    "\n",
    "# リスト 3-32: 最終的なモデルの訓練\n",
    "# コンパイル済みの新しいモデルを取得\n",
    "model = build_model()\n",
    "\n",
    "# データ全体を使って訓練\n",
    "model.fit(train_data, train_targets,\n",
    "          epochs=80, batch_size=16, verbose=0)\n",
    "# ↑ validation=(val_data, val_targets) はなぜ入らないのか？\n",
    "\n",
    "# テストデータでの検証スコアを取得\n",
    "test_mse_score, test_mae_score = model.evaluate(test_data, test_targets)"
   ]
  },
  {
   "cell_type": "code",
   "execution_count": 74,
   "metadata": {},
   "outputs": [
    {
     "data": {
      "text/plain": [
       "(5000265.725490196, 2157.5708151424633)"
      ]
     },
     "execution_count": 74,
     "metadata": {},
     "output_type": "execute_result"
    }
   ],
   "source": [
    "test_mse_score, test_mae_score"
   ]
  }
 ],
 "metadata": {
  "kernelspec": {
   "display_name": "Python 3",
   "language": "python",
   "name": "python3"
  },
  "language_info": {
   "codemirror_mode": {
    "name": "ipython",
    "version": 3
   },
   "file_extension": ".py",
   "mimetype": "text/x-python",
   "name": "python",
   "nbconvert_exporter": "python",
   "pygments_lexer": "ipython3",
   "version": "3.6.4"
  },
  "nav_menu": {},
  "toc": {
   "navigate_menu": true,
   "number_sections": true,
   "sideBar": true,
   "threshold": 6,
   "toc_cell": false,
   "toc_section_display": "block",
   "toc_window_display": false
  }
 },
 "nbformat": 4,
 "nbformat_minor": 2
}
