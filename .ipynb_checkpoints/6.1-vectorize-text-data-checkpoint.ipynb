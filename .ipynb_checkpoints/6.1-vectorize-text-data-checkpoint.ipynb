{
 "cells": [
  {
   "cell_type": "code",
   "execution_count": 109,
   "metadata": {},
   "outputs": [],
   "source": [
    "# 6.1 テキストデータの操作\n",
    "\n",
    "# リスト 6-1: 単語レベルでの単純な one-hot エンコーディング\n",
    "import numpy as np\n",
    "\n",
    "# 初期データ: サンプルごとにエントリが1つ含まれている\n",
    "# （この単純な例では、サンプルは単なる1つの文章だが、文書全体でもよい）\n",
    "samples = ['The cat sat on the mat.', 'The dog ate my homework.']\n",
    "\n",
    "# データに含まれているすべてのトークンのインデックスを構築\n",
    "token_index = {}\n",
    "for sample in samples:\n",
    "    # ここでは単純にsplitメソッドを使ってサンプルをトークン化する\n",
    "    # 実際には、サンプルから句読点と特殊な文字を取り除くことになる\n",
    "    for word in sample.split():\n",
    "        if word not in token_index:\n",
    "            # 一意な単語にそれぞれ一意なインデックスを割り当てする\n",
    "            # インデックス0をどの単語にも割り当てないことに注意\n",
    "            token_index[word] = len(token_index) + 1\n",
    "\n",
    "# 次に、サンプルをベクトル化する：サンプルごとに最初の max_length 個の単語だけを考慮\n",
    "max_length = 10\n",
    "\n",
    "# 結果の格納場所\n",
    "results = np.zeros((len(samples),\n",
    "                    max_length,\n",
    "                    max(token_index.values()) + 1))\n",
    "for i, sample in enumerate(samples):\n",
    "    for j, word in list(enumerate(sample.split()))[:max_length]:\n",
    "        index = token_index.get(word)\n",
    "        results[i, j, index] = 1"
   ]
  },
  {
   "cell_type": "code",
   "execution_count": 110,
   "metadata": {},
   "outputs": [],
   "source": [
    "# リスト 6-2: 文字レベルでの単純なone-hotエンコーディング\n",
    "import string\n",
    "\n",
    "samples = ['The cat sat on my mat.', 'The dog ate my homework.']\n",
    "characters = string.printable  # 全て印字可能なASCII文字\n",
    "token_index = dict(zip(characters, range(1, len(characters) + 1)))\n",
    "\n",
    "max_length = 50\n",
    "results = np.zeros((len(samples),\n",
    "                   max_length,\n",
    "                   max(token_index.values()) + 1))\n",
    "for i, sample in enumerate(samples):\n",
    "    for j, character in enumerate(sample[:max_length]):\n",
    "        index = token_index.get(character)\n",
    "        results[i, j, index] = 1."
   ]
  },
  {
   "cell_type": "code",
   "execution_count": 111,
   "metadata": {},
   "outputs": [
    {
     "name": "stdout",
     "output_type": "stream",
     "text": [
      "Found 9 unique tokens.\n",
      "tokeninzer: None\n",
      "sequences: [[1, 2, 3, 4, 1, 5], [1, 6, 7, 8, 9]]\n",
      "one_hot_results: [[0. 1. 1. ... 0. 0. 0.]\n",
      " [0. 1. 0. ... 0. 0. 0.]]\n"
     ]
    }
   ],
   "source": [
    "# リスト 6-3: Kerasを使った単語レベルでの one-hot エンコーディング\n",
    "from keras.preprocessing.text import Tokenizer\n",
    "\n",
    "samples = ['The cat sat on the mat.', 'The dog ate my homework.']\n",
    "\n",
    "# 出現頻度が最も高い1,000個の単語だけを処理するように設定された\n",
    "# トークナイザを作成\n",
    "tokenizer = Tokenizer(num_words=1000)\n",
    "\n",
    "# 単語のインデックスを構築\n",
    "tokenizer.fit_on_texts(samples)\n",
    "\n",
    "# 文字列を整数のインデックスのリストに変換\n",
    "sequences = tokenizer.texts_to_sequences(samples)\n",
    "\n",
    "# 二値のone-hotエンコーディング表現を直接取得することも可能\n",
    "# one-hotエンコーディング以外のベクトル化モードもサポートされている\n",
    "one_hot_results = tokenizer.texts_to_matrix(samples, mode='binary')\n",
    "\n",
    "# 計算された単語にインデックスを復元する方法\n",
    "word_index = tokenizer.word_index\n",
    "print('Found %s unique tokens.' % len(word_index))\n",
    "\n",
    "print('tokeninzer:', tokenizer.fit_on_texts(samples))\n",
    "print('sequences:', sequences)\n",
    "print('one_hot_results:', one_hot_results)"
   ]
  },
  {
   "cell_type": "code",
   "execution_count": 112,
   "metadata": {},
   "outputs": [],
   "source": [
    "# リスト 6-4: ハッシュトリックを用いた単語レベルの単純なone-hotエンコーディング\n",
    "samples = ['The cat sat on the mat.', 'The dot ate my homework.']\n",
    "\n",
    "# 単語をサイズが1,000のベクトルとして格納\n",
    "# 単語の数が1,000の数に近い（またはそれ以上である場合は）\n",
    "# ハッシュ衝突が頻発し、このエンコーディング手法の精度が低下することに注意\n",
    "dimentionality = 1000\n",
    "max_length = 10\n",
    "\n",
    "results = np.zeros((len(samples), max_length, dimentionality))\n",
    "for i, sample in enumerate(samples):\n",
    "    for j, word in list(enumerate(sample.split()))[:max_length]:\n",
    "        # 単語をハッシュ化し、0~1000のランダムな整数に変換\n",
    "        index = abs(hash(word)) % dimentionality\n",
    "        results[i, j, index] = 1."
   ]
  },
  {
   "cell_type": "code",
   "execution_count": 113,
   "metadata": {},
   "outputs": [],
   "source": [
    "# 6.1.2 単語埋め込み - word embedding\n",
    "\n",
    "# リスト 6-5: Embedding 層をインスタンス化\n",
    "from keras.layers import Embedding\n",
    "\n",
    "# Embedding層の引数は少なくとも2つ:\n",
    "#   有効なトークンの数: この場合は1,000(1 + 単語のインデックスの最大値)\n",
    "#   埋め込みの次元の数: この場合は64\n",
    "embedding_layer = Embedding(1000, 64)"
   ]
  },
  {
   "cell_type": "code",
   "execution_count": 114,
   "metadata": {},
   "outputs": [],
   "source": [
    "# リスト 6-6: Embedding層で使用するIMDbデータを読み込む\n",
    "from keras.datasets import imdb\n",
    "from keras import preprocessing\n",
    "\n",
    "# 特徴量として考慮する単語の数\n",
    "max_features = 10000\n",
    "\n",
    "# max_features 個の最も出現頻度の高い単語のうち\n",
    "# 個の数の単語を残してテキストをカット\n",
    "max_len = 20\n",
    "\n",
    "# データを整数のリストとして読み込む\n",
    "(x_train, y_train), (x_test, y_test) = \\\n",
    "    imdb.load_data(num_words=max_features)\n",
    "\n",
    "# 整数のリストを形状が(samples, max_len)の整数型の2次元テンソルに変換\n",
    "x_train = preprocessing.sequence.pad_sequences(x_train, maxlen=max_len)\n",
    "x_test = preprocessing.sequence.pad_sequences(x_test, maxlen=max_len)"
   ]
  },
  {
   "cell_type": "code",
   "execution_count": 115,
   "metadata": {},
   "outputs": [
    {
     "name": "stdout",
     "output_type": "stream",
     "text": [
      "_________________________________________________________________\n",
      "Layer (type)                 Output Shape              Param #   \n",
      "=================================================================\n",
      "embedding_24 (Embedding)     (None, 20, 8)             80000     \n",
      "_________________________________________________________________\n",
      "flatten_17 (Flatten)         (None, 160)               0         \n",
      "_________________________________________________________________\n",
      "dense_28 (Dense)             (None, 1)                 161       \n",
      "=================================================================\n",
      "Total params: 80,161\n",
      "Trainable params: 80,161\n",
      "Non-trainable params: 0\n",
      "_________________________________________________________________\n",
      "Train on 20000 samples, validate on 5000 samples\n",
      "Epoch 1/10\n",
      "20000/20000 [==============================] - 1s 69us/step - loss: 0.6759 - acc: 0.6049 - val_loss: 0.6398 - val_acc: 0.6814\n",
      "Epoch 2/10\n",
      "20000/20000 [==============================] - 1s 49us/step - loss: 0.5658 - acc: 0.7426 - val_loss: 0.5467 - val_acc: 0.7204\n",
      "Epoch 3/10\n",
      "20000/20000 [==============================] - 1s 45us/step - loss: 0.4752 - acc: 0.7807 - val_loss: 0.5113 - val_acc: 0.7384\n",
      "Epoch 4/10\n",
      "20000/20000 [==============================] - 1s 47us/step - loss: 0.4263 - acc: 0.8077 - val_loss: 0.5008 - val_acc: 0.7452\n",
      "Epoch 5/10\n",
      "20000/20000 [==============================] - 1s 49us/step - loss: 0.3930 - acc: 0.8257 - val_loss: 0.4981 - val_acc: 0.7536\n",
      "Epoch 6/10\n",
      "20000/20000 [==============================] - 1s 48us/step - loss: 0.3668 - acc: 0.8395 - val_loss: 0.5014 - val_acc: 0.7530\n",
      "Epoch 7/10\n",
      "20000/20000 [==============================] - 1s 47us/step - loss: 0.3435 - acc: 0.8533 - val_loss: 0.5052 - val_acc: 0.7520\n",
      "Epoch 8/10\n",
      "20000/20000 [==============================] - 1s 48us/step - loss: 0.3223 - acc: 0.8657 - val_loss: 0.5132 - val_acc: 0.7486\n",
      "Epoch 9/10\n",
      "20000/20000 [==============================] - 1s 48us/step - loss: 0.3023 - acc: 0.8766 - val_loss: 0.5213 - val_acc: 0.7490\n",
      "Epoch 10/10\n",
      "20000/20000 [==============================] - 1s 47us/step - loss: 0.2839 - acc: 0.8860 - val_loss: 0.5303 - val_acc: 0.7466\n"
     ]
    }
   ],
   "source": [
    "# リスト 6-7: IMDbデータで Embedding 層と分類器を使用\n",
    "from keras.models import Sequential\n",
    "from keras.layers import Flatten, Dense, Embedding\n",
    "\n",
    "model = Sequential()\n",
    "\n",
    "# あとから埋め込み入力を平坦化できるよう、\n",
    "# Embedding層に入力の長さとしてmax_lenを指定\n",
    "# Embedding層の後、活性化の形状は(samples, max_len, 8)になる\n",
    "model.add(Embedding(10000, 8, input_length=max_len))\n",
    "\n",
    "# 埋め込みの3次元テンソルを形状が(samples, max_len * 8)の2次元テンソルに変換\n",
    "model.add(Flatten())\n",
    "\n",
    "# 最後に分類器を追加\n",
    "model.add(Dense(1, activation='sigmoid'))\n",
    "model.compile(optimizer='rmsprop',\n",
    "              loss='binary_crossentropy',\n",
    "              metrics=['acc'])\n",
    "model.summary()\n",
    "history = model.fit(x_train, y_train,\n",
    "                    epochs=10,\n",
    "                    batch_size=32,\n",
    "                    validation_split=0.2)"
   ]
  },
  {
   "cell_type": "code",
   "execution_count": 116,
   "metadata": {},
   "outputs": [],
   "source": [
    "# 6.1.3 テキストのトークン化から埋め込みまで\n",
    "\n",
    "# リスト 6-8: 元のIMDbデータセットのラベルを処理\n",
    "import os\n",
    "\n",
    "imdb_dir = '/Users/sunouchi/Downloads/aclImdb'\n",
    "\n",
    "train_dir = os.path.join(imdb_dir, 'train')\n",
    "labels = []\n",
    "texts = []\n",
    "\n",
    "for label_type in ['neg', 'pos']:\n",
    "    dir_name = os.path.join(train_dir, label_type)\n",
    "    for fname in os.listdir(dir_name):\n",
    "        if fname[-4:] == '.txt':\n",
    "            f = open(os.path.join(dir_name, fname))\n",
    "            texts.append(f.read())\n",
    "            f.close()\n",
    "            if label_type == 'neg':\n",
    "                labels.append(0)\n",
    "            else:\n",
    "                labels.append(1)"
   ]
  },
  {
   "cell_type": "code",
   "execution_count": 117,
   "metadata": {},
   "outputs": [
    {
     "name": "stdout",
     "output_type": "stream",
     "text": [
      "Found 88582 unique tokens.\n",
      "Shape of data tensor: (25000, 100)\n",
      "Shape of label tensor: (25000,)\n"
     ]
    },
    {
     "data": {
      "text/plain": [
       "((2000, 100), (2000,), (10000, 100), (10000,))"
      ]
     },
     "execution_count": 117,
     "metadata": {},
     "output_type": "execute_result"
    }
   ],
   "source": [
    "# リスト 6-9: IMDbデータのテキストをトークン化\n",
    "from keras.preprocessing.text import Tokenizer\n",
    "from keras.preprocessing.sequence import pad_sequences\n",
    "import numpy as np\n",
    "\n",
    "max_len = 100               # 映画レビューを100ワードでカット\n",
    "training_samples = 10000      # 200個のサンプルで訓練\n",
    "validation_samples = 10000  # 10,000個のサンプルで検証\n",
    "max_words = 10000           # データセットの最初から10,000ワードのみを考慮\n",
    "\n",
    "tokenizer = Tokenizer(num_words=max_words)\n",
    "tokenizer.fit_on_texts(texts)\n",
    "sequences = tokenizer.texts_to_sequences(texts)\n",
    "\n",
    "word_index = tokenizer.word_index\n",
    "print('Found %s unique tokens.' % len(word_index))\n",
    "\n",
    "data = pad_sequences(sequences, maxlen=max_len)\n",
    "\n",
    "labels = np.asarray(labels)\n",
    "print('Shape of data tensor:', data.shape)\n",
    "print('Shape of label tensor:', labels.shape)\n",
    "\n",
    "# データを訓練データセットと検証データセットに分割：\n",
    "# ただし、サンプルが順番に並んでいる（否定的なレビューの後に肯定的なレビューが\n",
    "# 配置されている）状態のデータを使用するため、最初にデータをシャッフル\n",
    "indices = np.arange(data.shape[0])\n",
    "np.random.shuffle(indices)\n",
    "data = data[indices]\n",
    "labels = labels[indices]\n",
    "\n",
    "x_train = data[:training_samples]\n",
    "y_train = labels[:training_samples]\n",
    "x_val = data[training_samples: training_samples + validation_samples]\n",
    "y_val = labels[training_samples: training_samples + validation_samples]\n",
    "\n",
    "x_train.shape, y_train.shape, x_val.shape, y_val.shape"
   ]
  },
  {
   "cell_type": "code",
   "execution_count": 118,
   "metadata": {},
   "outputs": [
    {
     "name": "stdout",
     "output_type": "stream",
     "text": [
      "Found 400000 word vectors.\n"
     ]
    }
   ],
   "source": [
    "# 埋め込みの前処理\n",
    "\n",
    "# リスト 6-10: Gloveの単語埋め込みの準備\n",
    "\n",
    "# Gloveの埋め込みファイルが置かれているディレクトリ\n",
    "glove_dir = '/Users/sunouchi/Downloads/glove.6B'\n",
    "\n",
    "embeddings_index = {}\n",
    "f = open(os.path.join(glove_dir, 'glove.6B.100d.txt'))\n",
    "for line in f:\n",
    "    values = line.split()\n",
    "    word = values[0]\n",
    "    coefs = np.asarray(values[1:], dtype='float32')\n",
    "    embeddings_index[word] = coefs\n",
    "f.close()\n",
    "\n",
    "print('Found %s word vectors.' % len(embeddings_index))"
   ]
  },
  {
   "cell_type": "code",
   "execution_count": 119,
   "metadata": {},
   "outputs": [],
   "source": [
    "# リスト 6-11: Gloveの単語埋め込み行列の準備\n",
    "embedding_dim = 100\n",
    "\n",
    "embedding_matrix = np.zeros((max_words, embedding_dim))\n",
    "for word, i in word_index.items():\n",
    "    embedding_vector = embeddings_index.get(word)\n",
    "    if i < max_words:\n",
    "        if embedding_vector is not None:\n",
    "            # 埋め込みインデックスで見つからない単語は0で埋める\n",
    "            embedding_matrix[i] = embedding_vector"
   ]
  },
  {
   "cell_type": "code",
   "execution_count": 120,
   "metadata": {},
   "outputs": [
    {
     "name": "stdout",
     "output_type": "stream",
     "text": [
      "_________________________________________________________________\n",
      "Layer (type)                 Output Shape              Param #   \n",
      "=================================================================\n",
      "embedding_25 (Embedding)     (None, 100, 100)          1000000   \n",
      "_________________________________________________________________\n",
      "flatten_18 (Flatten)         (None, 10000)             0         \n",
      "_________________________________________________________________\n",
      "dense_29 (Dense)             (None, 32)                320032    \n",
      "_________________________________________________________________\n",
      "dense_30 (Dense)             (None, 1)                 33        \n",
      "=================================================================\n",
      "Total params: 1,320,065\n",
      "Trainable params: 1,320,065\n",
      "Non-trainable params: 0\n",
      "_________________________________________________________________\n"
     ]
    }
   ],
   "source": [
    "# モデルの定義\n",
    "\n",
    "# リスト 6-12: モデルの定義\n",
    "from keras.models import Sequential\n",
    "from keras.layers import Embedding, Flatten, Dense\n",
    "\n",
    "model = Sequential()\n",
    "model.add(Embedding(max_words, embedding_dim, input_length=max_len))\n",
    "model.add(Flatten())\n",
    "model.add(Dense(32, activation='relu'))\n",
    "model.add(Dense(1, activation='sigmoid'))\n",
    "model.summary()"
   ]
  },
  {
   "cell_type": "code",
   "execution_count": 121,
   "metadata": {},
   "outputs": [],
   "source": [
    "# Gloveの埋め込みをモデルに読み込む\n",
    "\n",
    "# リスト6-13: 準備した単語埋め込みを Embedding層に読み込む\n",
    "model.layers[0].set_weights([embedding_matrix])\n",
    "model.layers[0].trainable = False"
   ]
  },
  {
   "cell_type": "code",
   "execution_count": 122,
   "metadata": {},
   "outputs": [
    {
     "name": "stdout",
     "output_type": "stream",
     "text": [
      "Train on 2000 samples, validate on 10000 samples\n",
      "Epoch 1/10\n",
      "2000/2000 [==============================] - 1s 600us/step - loss: 0.8118 - acc: 0.5565 - val_loss: 0.6814 - val_acc: 0.5408\n",
      "Epoch 2/10\n",
      "2000/2000 [==============================] - 1s 372us/step - loss: 0.6277 - acc: 0.6505 - val_loss: 0.6484 - val_acc: 0.6265\n",
      "Epoch 3/10\n",
      "2000/2000 [==============================] - 1s 376us/step - loss: 0.5120 - acc: 0.7485 - val_loss: 0.7162 - val_acc: 0.5987\n",
      "Epoch 4/10\n",
      "2000/2000 [==============================] - 1s 360us/step - loss: 0.4358 - acc: 0.7915 - val_loss: 0.6384 - val_acc: 0.6587\n",
      "Epoch 5/10\n",
      "2000/2000 [==============================] - 1s 358us/step - loss: 0.3249 - acc: 0.8730 - val_loss: 1.0686 - val_acc: 0.5472\n",
      "Epoch 6/10\n",
      "2000/2000 [==============================] - 1s 360us/step - loss: 0.2591 - acc: 0.9045 - val_loss: 0.7820 - val_acc: 0.6314\n",
      "Epoch 7/10\n",
      "2000/2000 [==============================] - 1s 380us/step - loss: 0.2034 - acc: 0.9335 - val_loss: 1.0355 - val_acc: 0.5870\n",
      "Epoch 8/10\n",
      "2000/2000 [==============================] - 1s 376us/step - loss: 0.1427 - acc: 0.9605 - val_loss: 0.8660 - val_acc: 0.6347\n",
      "Epoch 9/10\n",
      "2000/2000 [==============================] - 1s 424us/step - loss: 0.1210 - acc: 0.9625 - val_loss: 0.8274 - val_acc: 0.6527\n",
      "Epoch 10/10\n",
      "2000/2000 [==============================] - 1s 362us/step - loss: 0.0770 - acc: 0.9770 - val_loss: 0.9445 - val_acc: 0.6408\n"
     ]
    }
   ],
   "source": [
    "# モデルの訓練と評価\n",
    "\n",
    "# リスト6-14: 訓練と評価\n",
    "model.compile(optimizer='rmsprop',\n",
    "              loss='binary_crossentropy',\n",
    "              metrics=['acc'])\n",
    "history = model.fit(x_train, y_train,\n",
    "                    epochs=10,\n",
    "                    batch_size=32,\n",
    "                    validation_data=(x_val, y_val))\n",
    "model.save_weights('pre_trained_glove_model.h5')"
   ]
  },
  {
   "cell_type": "code",
   "execution_count": 123,
   "metadata": {},
   "outputs": [
    {
     "data": {
      "image/png": "[encoded data removed]",
      "text/plain": [
       "<Figure size 432x288 with 1 Axes>"
      ]
     },
     "metadata": {},
     "output_type": "display_data"
    },
    {
     "data": {
      "image/png": "[encoded data removed]",
      "text/plain": [
       "<Figure size 432x288 with 1 Axes>"
      ]
     },
     "metadata": {},
     "output_type": "display_data"
    }
   ],
   "source": [
    "# リスト 6-15: 結果をプロット\n",
    "\n",
    "import matplotlib.pyplot as plt\n",
    "\n",
    "acc = history.history['acc']\n",
    "val_acc = history.history['val_acc']\n",
    "loss = history.history['loss']\n",
    "val_loss = history.history['val_loss']\n",
    "\n",
    "epochs = range(1, len(acc) +  1)\n",
    "\n",
    "# 正解率をプロット\n",
    "plt.plot(epochs, acc, 'bo', label='Training acc')\n",
    "plt.plot(epochs, val_acc, 'b', label='Validation acc')\n",
    "plt.title('Training and Validation accuracy')\n",
    "plt.legend()\n",
    "\n",
    "plt.figure()\n",
    "\n",
    "# 損失値をプロット\n",
    "plt.plot(epochs, loss, 'bo', label='Training loss')\n",
    "plt.plot(epochs, val_loss, 'b', label='Validation loss')\n",
    "plt.title('Training and Validation loss')\n",
    "plt.legend()\n",
    "\n",
    "plt.show()"
   ]
  },
  {
   "cell_type": "code",
   "execution_count": 124,
   "metadata": {},
   "outputs": [
    {
     "name": "stdout",
     "output_type": "stream",
     "text": [
      "_________________________________________________________________\n",
      "Layer (type)                 Output Shape              Param #   \n",
      "=================================================================\n",
      "embedding_26 (Embedding)     (None, 100, 100)          1000000   \n",
      "_________________________________________________________________\n",
      "flatten_19 (Flatten)         (None, 10000)             0         \n",
      "_________________________________________________________________\n",
      "dense_31 (Dense)             (None, 32)                320032    \n",
      "_________________________________________________________________\n",
      "dense_32 (Dense)             (None, 1)                 33        \n",
      "=================================================================\n",
      "Total params: 1,320,065\n",
      "Trainable params: 1,320,065\n",
      "Non-trainable params: 0\n",
      "_________________________________________________________________\n",
      "Train on 2000 samples, validate on 10000 samples\n",
      "Epoch 1/10\n",
      "2000/2000 [==============================] - 1s 496us/step - loss: 0.6922 - acc: 0.5205 - val_loss: 0.6898 - val_acc: 0.5601\n",
      "Epoch 2/10\n",
      "2000/2000 [==============================] - 0s 152us/step - loss: 0.5941 - acc: 0.9315 - val_loss: 0.6724 - val_acc: 0.5972\n",
      "Epoch 3/10\n",
      "2000/2000 [==============================] - 0s 150us/step - loss: 0.4438 - acc: 0.9775 - val_loss: 0.6457 - val_acc: 0.6358\n",
      "Epoch 4/10\n",
      "2000/2000 [==============================] - 0s 161us/step - loss: 0.2900 - acc: 0.9920 - val_loss: 0.6453 - val_acc: 0.6153\n",
      "Epoch 5/10\n",
      "2000/2000 [==============================] - 0s 163us/step - loss: 0.1922 - acc: 0.9975 - val_loss: 0.6110 - val_acc: 0.6654\n",
      "Epoch 6/10\n",
      "2000/2000 [==============================] - 0s 154us/step - loss: 0.1212 - acc: 0.9995 - val_loss: 0.5863 - val_acc: 0.6919\n",
      "Epoch 7/10\n",
      "2000/2000 [==============================] - 0s 150us/step - loss: 0.0764 - acc: 1.0000 - val_loss: 0.5746 - val_acc: 0.6996\n",
      "Epoch 8/10\n",
      "2000/2000 [==============================] - 0s 145us/step - loss: 0.0522 - acc: 1.0000 - val_loss: 0.5737 - val_acc: 0.6967\n",
      "Epoch 9/10\n",
      "2000/2000 [==============================] - 0s 143us/step - loss: 0.0354 - acc: 1.0000 - val_loss: 0.5633 - val_acc: 0.7055\n",
      "Epoch 10/10\n",
      "2000/2000 [==============================] - 0s 134us/step - loss: 0.0247 - acc: 1.0000 - val_loss: 0.5572 - val_acc: 0.7105\n"
     ]
    },
    {
     "data": {
      "image/png": "[encoded data removed]",
      "text/plain": [
       "<Figure size 432x288 with 1 Axes>"
      ]
     },
     "metadata": {},
     "output_type": "display_data"
    },
    {
     "data": {
      "image/png": "[encoded data removed]",
      "text/plain": [
       "<Figure size 432x288 with 1 Axes>"
      ]
     },
     "metadata": {},
     "output_type": "display_data"
    }
   ],
   "source": [
    "# リスト 6-16: 学習済みの単語埋め込みを使用せずに同じモデルを訓練\n",
    "\n",
    "from keras.models import Sequential\n",
    "from keras.layers import Embedding, Flatten, Dense\n",
    "\n",
    "model = Sequential()\n",
    "model.add(Embedding(max_words, embedding_dim, input_length=max_len))\n",
    "model.add(Flatten())\n",
    "model.add(Dense(32, activation='relu'))\n",
    "model.add(Dense(1, activation='sigmoid'))\n",
    "model.summary()\n",
    "\n",
    "model.compile(optimizer='rmsprop',\n",
    "              loss='binary_crossentropy',\n",
    "              metrics=['acc'])\n",
    "history = model.fit(x_train, y_train,\n",
    "                     epochs=10,\n",
    "                     batch_size=512,\n",
    "                     validation_data=(x_val, y_val))\n",
    "\n",
    "\n",
    "# グラフをプロット\n",
    "acc = history.history['acc']\n",
    "val_acc = history.history['val_acc']\n",
    "loss = history.history['loss']\n",
    "val_loss = history.history['val_loss']\n",
    "\n",
    "epochs = range(1, len(acc) +  1)\n",
    "\n",
    "# 正解率をプロット\n",
    "plt.plot(epochs, acc, 'bo', label='Training acc')\n",
    "plt.plot(epochs, val_acc, 'b', label='Validation acc')\n",
    "plt.title('Training and Validation accuracy')\n",
    "plt.legend()\n",
    "\n",
    "plt.figure()\n",
    "\n",
    "# 損失値をプロット\n",
    "plt.plot(epochs, loss, 'bo', label='Training loss')\n",
    "plt.plot(epochs, val_loss, 'b', label='Validation loss')\n",
    "plt.title('Training and Validation loss')\n",
    "plt.legend()\n",
    "\n",
    "plt.show()"
   ]
  },
  {
   "cell_type": "code",
   "execution_count": 125,
   "metadata": {},
   "outputs": [],
   "source": [
    "# リスト 6-17: テストデータセットのデータをトークン化\n",
    "test_dir = os.path.join(imdb_dir, 'test')\n",
    "\n",
    "labels = []\n",
    "texts = []\n",
    "\n",
    "for label_type in ['neg', 'pos']:\n",
    "    dir_name = os.path.join(test_dir, label_type)\n",
    "    for fname in sorted(os.listdir(dir_name)):\n",
    "        if fname[-4:] == '.txt':\n",
    "            f = open(os.path.join(dir_name, fname))\n",
    "            texts.append(f.read())\n",
    "            f.close()\n",
    "            if label_type == 'neg':\n",
    "                labels.append(0)\n",
    "            else:\n",
    "                labels.append(1)\n",
    "\n",
    "sequences = tokenizer.texts_to_sequences(texts)\n",
    "x_test = pad_sequences(sequences, maxlen=max_len)\n",
    "y_test = np.asarray(labels)"
   ]
  },
  {
   "cell_type": "code",
   "execution_count": 126,
   "metadata": {},
   "outputs": [
    {
     "name": "stdout",
     "output_type": "stream",
     "text": [
      "25000/25000 [==============================] - 1s 43us/step\n"
     ]
    },
    {
     "data": {
      "text/plain": [
       "[0.9676875009918213, 0.63664]"
      ]
     },
     "execution_count": 126,
     "metadata": {},
     "output_type": "execute_result"
    }
   ],
   "source": [
    "# リスト 6-18: モデルをテストデータセットで評価する\n",
    "model.load_weights('pre_trained_glove_model.h5')\n",
    "model.evaluate(x_test, y_test)"
   ]
  }
 ],
 "metadata": {
  "kernelspec": {
   "display_name": "Python 3",
   "language": "python",
   "name": "python3"
  },
  "language_info": {
   "codemirror_mode": {
    "name": "ipython",
    "version": 3
   },
   "file_extension": ".py",
   "mimetype": "text/x-python",
   "name": "python",
   "nbconvert_exporter": "python",
   "pygments_lexer": "ipython3",
   "version": "3.6.4"
  },
  "nav_menu": {},
  "toc": {
   "navigate_menu": true,
   "number_sections": true,
   "sideBar": true,
   "threshold": 6,
   "toc_cell": false,
   "toc_section_display": "block",
   "toc_window_display": false
  }
 },
 "nbformat": 4,
 "nbformat_minor": 2
}
