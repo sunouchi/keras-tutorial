{
 "cells": [
  {
   "cell_type": "markdown",
   "metadata": {},
   "source": [
    "# 6.3 リカレントニューラルネットワークの高度な使い方"
   ]
  },
  {
   "cell_type": "code",
   "execution_count": 3,
   "metadata": {},
   "outputs": [
    {
     "name": "stdout",
     "output_type": "stream",
     "text": [
      "['\"Date Time\"', '\"p (mbar)\"', '\"T (degC)\"', '\"Tpot (K)\"', '\"Tdew (degC)\"', '\"rh (%)\"', '\"VPmax (mbar)\"', '\"VPact (mbar)\"', '\"VPdef (mbar)\"', '\"sh (g/kg)\"', '\"H2OC (mmol/mol)\"', '\"rho (g/m**3)\"', '\"wv (m/s)\"', '\"max. wv (m/s)\"', '\"wd (deg)\"']\n",
      "['01.01.2009 00:10:00,996.52,-8.02,265.40,-8.90,93.30,3.33,3.11,0.22,1.94,3.12,1307.75,1.03,1.75,152.30', '01.01.2009 00:20:00,996.57,-8.41,265.01,-9.28,93.40,3.23,3.02,0.21,1.89,3.03,1309.80,0.72,1.50,136.10', '01.01.2009 00:30:00,996.53,-8.51,264.91,-9.31,93.90,3.21,3.01,0.20,1.88,3.02,1310.24,0.19,0.63,171.60', '01.01.2009 00:40:00,996.51,-8.31,265.12,-9.07,94.20,3.26,3.07,0.19,1.92,3.08,1309.19,0.34,0.50,198.00', '01.01.2009 00:50:00,996.51,-8.27,265.15,-9.04,94.10,3.27,3.08,0.19,1.92,3.09,1309.00,0.32,0.63,214.30', '01.01.2009 01:00:00,996.50,-8.05,265.38,-8.78,94.40,3.33,3.14,0.19,1.96,3.15,1307.86,0.21,0.63,192.70', '01.01.2009 01:10:00,996.50,-7.62,265.81,-8.30,94.80,3.44,3.26,0.18,2.04,3.27,1305.68,0.18,0.63,166.50', '01.01.2009 01:20:00,996.50,-7.62,265.81,-8.36,94.40,3.44,3.25,0.19,2.03,3.26,1305.69,0.19,0.50,118.60', '01.01.2009 01:30:00,996.50,-7.91,265.52,-8.73,93.80,3.36,3.15,0.21,1.97,3.16,1307.17,0.28,0.75,188.50', '01.01.2009 01:40:00,996.53,-8.43,264.99,-9.34,93.10,3.23,3.00,0.22,1.88,3.02,1309.85,0.59,0.88,185.00']\n"
     ]
    }
   ],
   "source": [
    "# リスト 6-28: 気象データセットのデータの調査\n",
    "import os\n",
    "\n",
    "# データセットが置かれているディレクトリ\n",
    "data_dir = '/Users/sunouchi/Downloads/jena_climate'\n",
    "fname = os.path.join(data_dir, 'jena_climate_2009_2016.csv')\n",
    "\n",
    "f = open(fname)\n",
    "data = f.read()\n",
    "f.close()\n",
    "\n",
    "lines = data.split('\\n')\n",
    "header = lines[0].split(',')\n",
    "lines = lines[1:]\n",
    "\n",
    "print(header)\n",
    "print(len(lines))"
   ]
  },
  {
   "cell_type": "code",
   "execution_count": 4,
   "metadata": {},
   "outputs": [
    {
     "data": {
      "text/plain": [
       "<Figure size 640x480 with 1 Axes>"
      ]
     },
     "metadata": {},
     "output_type": "display_data"
    }
   ],
   "source": [
    "# リスト 6-29: データの解析\n",
    "import numpy as np\n",
    "\n",
    "float_data = np.zeros((len(lines), len(header) - 1))\n",
    "for i, line in enumerate(lines):\n",
    "    values = [float(x) for x in line.split(',')[1:]]\n",
    "    float_data[i, :] = values\n",
    "\n",
    "\n",
    "\n",
    "# リスト 6-30: 気温の時系列データのプロット\n",
    "import matplotlib.pyplot as plt\n",
    "\n",
    "temp = float_data[:, 1]  # 気温（摂氏）\n",
    "plt.plot(range(len(temp)), temp)\n",
    "plt.show()"
   ]
  },
  {
   "cell_type": "code",
   "execution_count": 5,
   "metadata": {},
   "outputs": [
    {
     "data": {
      "image/png": "[encoded data removed]",
      "text/plain": [
       "<Figure size 432x288 with 1 Axes>"
      ]
     },
     "metadata": {},
     "output_type": "display_data"
    }
   ],
   "source": [
    "# リスト 6-31: 最初の10日間の気温データをプロット\n",
    "plt.plot(range(1440), temp[:1440])\n",
    "plt.show()"
   ]
  },
  {
   "cell_type": "code",
   "execution_count": 24,
   "metadata": {},
   "outputs": [],
   "source": [
    "# リスト 6-32: データの正規化\n",
    "# 平均で引き、標準偏差で割る\n",
    "mean = float_data[:200000].mean(axis=0)\n",
    "float_data -= mean\n",
    "std = float_data[:200000].std(axis=0)\n",
    "float_data /= std"
   ]
  },
  {
   "cell_type": "code",
   "execution_count": 25,
   "metadata": {},
   "outputs": [],
   "source": [
    "# リスト 6-33: 時系列サンプルとそれらの目的地を生成するジェネレータ\n",
    "def generator(data, lookback, delay, min_index, max_index,\n",
    "              shuffle=False, batch_size=128, step=6):\n",
    "    # data:       元の浮動小数点数型のデータからなる配列\n",
    "    # lookback:   入力データの時間刻みをいくつさかのぼるか\n",
    "    # delay:      目的値の時間刻みをいくつ進めるか\n",
    "    # min_index, \n",
    "    # max_index:  抽出する時間刻みの上限と下限を表す data配列のインデックス\n",
    "    #             データの一部を検証とテストのためにとっておくのに役立つ\n",
    "    # shuffle:    サンプルをシャッフルするのか、それとも時間の順序で抽出するのか\n",
    "    # batch_size: バッチ1つあたりのサンプル数\n",
    "    # step:       データをサンプリングするときの期間（単位は時間刻み）。データ点を\n",
    "    #             一時間ごとに1つ抽出するために6に設定する\n",
    "    if max_index is None:\n",
    "        max_index = len(data) - delay - 1\n",
    "    i = min_index + lookback\n",
    "    while 1:\n",
    "        if shuffle:\n",
    "            rows = np.random.randint(\n",
    "                min_index + lookback, max_index, size=batch_size)\n",
    "        else:\n",
    "            if i + batch_size >= max_index:\n",
    "                i = min_index + lookback\n",
    "            rows = np.arange(i, min(i + batch_size, max_index))\n",
    "            i += len(rows)\n",
    "            \n",
    "        samples = np.zeros((len(rows),\n",
    "                           lookback // step,\n",
    "                           data.shape[-1]))\n",
    "        targets = np.zeros((len(rows),))\n",
    "        for j, row in enumerate(rows):\n",
    "            indices = range(rows[j] - lookback, rows[j], step)\n",
    "            samples[j] = data[indices]\n",
    "            targets[j] = data[rows[j] + delay][1]\n",
    "        yield samples, targets\n",
    "\n",
    "# リスト 6-34: 訓練、検証、テストに使用するジェネレータの準備\n",
    "lookback = 1440\n",
    "step = 6\n",
    "delay = 144\n",
    "batch_size = 128\n",
    "\n",
    "# 訓練ジェネレータ\n",
    "train_gen = generator(float_data,\n",
    "                      lookback=lookback,\n",
    "                      delay=delay,\n",
    "                      min_index=0,\n",
    "                      max_index=200000,\n",
    "                      shuffle=True,\n",
    "                      step=step,\n",
    "                      batch_size=batch_size)\n",
    "val_gen = generator(float_data,\n",
    "                    lookback=lookback,\n",
    "                    delay=delay,\n",
    "                    min_index=200001,\n",
    "                    max_index=300000,\n",
    "                    step=step,\n",
    "                    batch_size=batch_size)\n",
    "test_gen = generator(float_data,\n",
    "                     lookback=lookback,\n",
    "                     delay=delay,\n",
    "                     min_index=300001,\n",
    "                     max_index=None,\n",
    "                     step=step,\n",
    "                     batch_size=batch_size)\n",
    "\n",
    "# 検証データセット全体を調べるためにval_genから抽出する時間刻みの数\n",
    "val_steps = (300000 - 200001 - lookback) // batch_size\n",
    "\n",
    "# テストデータセット全体を調べるためにtest_genから抽出する時間刻みの数\n",
    "test_steps = (len(float_data) - 300001 - lookback) // batch_size"
   ]
  },
  {
   "cell_type": "code",
   "execution_count": 26,
   "metadata": {},
   "outputs": [
    {
     "name": "stdout",
     "output_type": "stream",
     "text": [
      "0.2897359729905364\n"
     ]
    }
   ],
   "source": [
    "# リスト 6-35: 常識的なベースラインのMAEを計算\n",
    "def evaluate_naive_method():\n",
    "    batch_maes = []\n",
    "    for step in range(val_steps):\n",
    "        samples, targets = next(val_gen)\n",
    "        preds = samples[:, -1, 1]\n",
    "        mae = np.mean(np.abs(preds - targets))\n",
    "        batch_maes.append(mae)\n",
    "    print(np.mean(batch_maes))\n",
    "    \n",
    "evaluate_naive_method()"
   ]
  },
  {
   "cell_type": "code",
   "execution_count": 27,
   "metadata": {},
   "outputs": [
    {
     "data": {
      "text/plain": [
       "0.2899999999999992"
      ]
     },
     "execution_count": 27,
     "metadata": {},
     "output_type": "execute_result"
    }
   ],
   "source": [
    "# リスト 6-36: 平均絶対誤差（MAE）を摂氏の誤差に変換\n",
    "celsius_mae = 0.29 * std[1]\n",
    "celsius_mae"
   ]
  },
  {
   "cell_type": "code",
   "execution_count": 28,
   "metadata": {},
   "outputs": [
    {
     "name": "stdout",
     "output_type": "stream",
     "text": [
      "Epoch 1/20\n",
      "500/500 [==============================] - 9s 19ms/step - loss: 1.1373 - val_loss: 0.5759\n",
      "Epoch 2/20\n",
      "500/500 [==============================] - 9s 19ms/step - loss: 0.3928 - val_loss: 0.3474\n",
      "Epoch 3/20\n",
      "500/500 [==============================] - 9s 18ms/step - loss: 0.2864 - val_loss: 0.3111\n",
      "Epoch 4/20\n",
      "500/500 [==============================] - 9s 18ms/step - loss: 0.2646 - val_loss: 0.3031\n",
      "Epoch 5/20\n",
      "500/500 [==============================] - 9s 18ms/step - loss: 0.2518 - val_loss: 0.3573\n",
      "Epoch 6/20\n",
      "500/500 [==============================] - 10s 19ms/step - loss: 0.2408 - val_loss: 0.3134\n",
      "Epoch 7/20\n",
      "500/500 [==============================] - 9s 19ms/step - loss: 0.2350 - val_loss: 0.3330\n",
      "Epoch 8/20\n",
      "500/500 [==============================] - 10s 19ms/step - loss: 0.2296 - val_loss: 0.3219\n",
      "Epoch 9/20\n",
      "500/500 [==============================] - 10s 19ms/step - loss: 0.2241 - val_loss: 0.3380\n",
      "Epoch 10/20\n",
      "500/500 [==============================] - 10s 20ms/step - loss: 0.2215 - val_loss: 0.3332\n",
      "Epoch 11/20\n",
      "500/500 [==============================] - 10s 20ms/step - loss: 0.2179 - val_loss: 0.3301\n",
      "Epoch 12/20\n",
      "500/500 [==============================] - 10s 19ms/step - loss: 0.2150 - val_loss: 0.3269\n",
      "Epoch 13/20\n",
      "500/500 [==============================] - 10s 21ms/step - loss: 0.2128 - val_loss: 0.3608\n",
      "Epoch 14/20\n",
      "500/500 [==============================] - 10s 21ms/step - loss: 0.2119 - val_loss: 0.3310\n",
      "Epoch 15/20\n",
      "500/500 [==============================] - 9s 19ms/step - loss: 0.2078 - val_loss: 0.3273\n",
      "Epoch 16/20\n",
      "500/500 [==============================] - 9s 18ms/step - loss: 0.2047 - val_loss: 0.3677\n",
      "Epoch 17/20\n",
      "500/500 [==============================] - 9s 18ms/step - loss: 0.2033 - val_loss: 0.3568\n",
      "Epoch 18/20\n",
      "500/500 [==============================] - 9s 18ms/step - loss: 0.2010 - val_loss: 0.3594\n",
      "Epoch 19/20\n",
      "500/500 [==============================] - 9s 18ms/step - loss: 0.2010 - val_loss: 0.3347\n",
      "Epoch 20/20\n",
      "500/500 [==============================] - 9s 19ms/step - loss: 0.1986 - val_loss: 0.3214\n"
     ]
    }
   ],
   "source": [
    "# リスト 6-37: 全結合モデルの訓練と評価\n",
    "from keras.models import Sequential\n",
    "from keras import layers\n",
    "from keras.optimizers import RMSprop\n",
    "\n",
    "model = Sequential()\n",
    "model.add(layers.Flatten(input_shape=(lookback // step, float_data.shape[-1])))\n",
    "model.add(layers.Dense(32, activation='relu'))\n",
    "model.add(layers.Dense(1))\n",
    "\n",
    "model.compile(optimizer=RMSprop(), loss='mae')\n",
    "history = model.fit_generator(train_gen,\n",
    "                              steps_per_epoch=500,\n",
    "                              epochs=20,\n",
    "                              validation_data=val_gen,\n",
    "                              validation_steps=val_steps)\n",
    "\n",
    "# TODO: 8/20月やること。ndimがどうたらというエラーが出るので、ここの原因調査から着手する "
   ]
  },
  {
   "cell_type": "code",
   "execution_count": 30,
   "metadata": {},
   "outputs": [
    {
     "data": {
      "image/png": "[encoded data removed]",
      "text/plain": [
       "<Figure size 432x288 with 1 Axes>"
      ]
     },
     "metadata": {},
     "output_type": "display_data"
    }
   ],
   "source": [
    "# リスト 6-38: 結果をプロット\n",
    "import matplotlib.pyplot as plt\n",
    "\n",
    "loss = history.history['loss']\n",
    "val_loss = history.history['val_loss']\n",
    "\n",
    "epochs = range(len(loss))\n",
    "\n",
    "plt.figure()\n",
    "\n",
    "plt.plot(epochs, loss, 'bo', label='Training loss')\n",
    "plt.plot(epochs, val_loss, 'b', label='Validation loss')\n",
    "plt.title('Training and Validation loss')\n",
    "plt.legend()\n",
    "\n",
    "plt.show()"
   ]
  },
  {
   "cell_type": "code",
   "execution_count": 31,
   "metadata": {},
   "outputs": [
    {
     "name": "stdout",
     "output_type": "stream",
     "text": [
      "Epoch 1/20\n",
      "500/500 [==============================] - 85s 170ms/step - loss: 0.3066 - val_loss: 0.2687\n",
      "Epoch 2/20\n",
      "500/500 [==============================] - 85s 169ms/step - loss: 0.2869 - val_loss: 0.2720\n",
      "Epoch 3/20\n",
      "500/500 [==============================] - 86s 173ms/step - loss: 0.2800 - val_loss: 0.2637\n",
      "Epoch 4/20\n",
      "500/500 [==============================] - 84s 169ms/step - loss: 0.2726 - val_loss: 0.2660\n",
      "Epoch 5/20\n",
      "500/500 [==============================] - 84s 169ms/step - loss: 0.2682 - val_loss: 0.2624\n",
      "Epoch 6/20\n",
      "500/500 [==============================] - 85s 170ms/step - loss: 0.2623 - val_loss: 0.2624\n",
      "Epoch 7/20\n",
      "500/500 [==============================] - 85s 170ms/step - loss: 0.2577 - val_loss: 0.2665\n",
      "Epoch 8/20\n",
      "500/500 [==============================] - 85s 169ms/step - loss: 0.2538 - val_loss: 0.2644\n",
      "Epoch 9/20\n",
      "500/500 [==============================] - 85s 171ms/step - loss: 0.2484 - val_loss: 0.2700\n",
      "Epoch 10/20\n",
      "500/500 [==============================] - 85s 170ms/step - loss: 0.2427 - val_loss: 0.2753\n",
      "Epoch 11/20\n",
      "500/500 [==============================] - 87s 174ms/step - loss: 0.2394 - val_loss: 0.2748\n",
      "Epoch 12/20\n",
      "500/500 [==============================] - 89s 178ms/step - loss: 0.2354 - val_loss: 0.2780\n",
      "Epoch 13/20\n",
      "500/500 [==============================] - 89s 177ms/step - loss: 0.2331 - val_loss: 0.2827\n",
      "Epoch 14/20\n",
      "500/500 [==============================] - 86s 172ms/step - loss: 0.2275 - val_loss: 0.2812\n",
      "Epoch 15/20\n",
      "500/500 [==============================] - 87s 173ms/step - loss: 0.2231 - val_loss: 0.2866\n",
      "Epoch 16/20\n",
      "500/500 [==============================] - 86s 172ms/step - loss: 0.2179 - val_loss: 0.2855\n",
      "Epoch 17/20\n",
      "500/500 [==============================] - 84s 169ms/step - loss: 0.2172 - val_loss: 0.2889\n",
      "Epoch 18/20\n",
      "500/500 [==============================] - 86s 172ms/step - loss: 0.2141 - val_loss: 0.2917\n",
      "Epoch 19/20\n",
      "500/500 [==============================] - 84s 168ms/step - loss: 0.2109 - val_loss: 0.2980\n",
      "Epoch 20/20\n",
      "500/500 [==============================] - 86s 173ms/step - loss: 0.2083 - val_loss: 0.2937\n"
     ]
    }
   ],
   "source": [
    "# リスト 6-39: GRUベースのモデルの訓練と評価\n",
    "from keras.models import Sequential\n",
    "from keras import layers\n",
    "from keras.optimizers import RMSprop\n",
    "\n",
    "model = Sequential()\n",
    "model.add(layers.GRU(32, input_shape=(None, float_data.shape[-1])))\n",
    "model.add(layers.Dense(1))\n",
    "\n",
    "model.compile(optimizer=RMSprop(), loss='mae')\n",
    "history = model.fit_generator(train_gen,\n",
    "                              steps_per_epoch=500,\n",
    "                              epochs=20,\n",
    "                              validation_data=val_gen,\n",
    "                              validation_steps=val_steps)"
   ]
  },
  {
   "cell_type": "code",
   "execution_count": 32,
   "metadata": {},
   "outputs": [
    {
     "data": {
      "image/png": "[encoded data removed]",
      "text/plain": [
       "<Figure size 432x288 with 1 Axes>"
      ]
     },
     "metadata": {},
     "output_type": "display_data"
    }
   ],
   "source": [
    "# 結果をプロット\n",
    "loss = history.history['loss']\n",
    "val_loss = history.history['val_loss']\n",
    "\n",
    "epochs = range(len(loss))\n",
    "\n",
    "plt.figure()\n",
    "\n",
    "plt.plot(epochs, loss, 'bo', label='Training loss')\n",
    "plt.plot(epochs, val_loss, 'b', label='Validation loss')\n",
    "plt.title('Training and Validation loss')\n",
    "plt.legend()\n",
    "\n",
    "plt.show()"
   ]
  },
  {
   "cell_type": "code",
   "execution_count": 35,
   "metadata": {},
   "outputs": [
    {
     "name": "stdout",
     "output_type": "stream",
     "text": [
      "Epoch 1/40\n",
      "500/500 [==============================] - 97s 194ms/step - loss: 0.3365 - val_loss: 0.2839\n",
      "Epoch 2/40\n",
      "500/500 [==============================] - 96s 192ms/step - loss: 0.3121 - val_loss: 0.2730\n",
      "Epoch 3/40\n",
      "500/500 [==============================] - 100s 199ms/step - loss: 0.3064 - val_loss: 0.2717\n",
      "Epoch 4/40\n",
      "500/500 [==============================] - 97s 194ms/step - loss: 0.3045 - val_loss: 0.2706\n",
      "Epoch 5/40\n",
      "500/500 [==============================] - 99s 197ms/step - loss: 0.3000 - val_loss: 0.2735\n",
      "Epoch 6/40\n",
      "500/500 [==============================] - 98s 195ms/step - loss: 0.2985 - val_loss: 0.2693\n",
      "Epoch 7/40\n",
      "500/500 [==============================] - 97s 194ms/step - loss: 0.2940 - val_loss: 0.2673\n",
      "Epoch 8/40\n",
      "500/500 [==============================] - 98s 196ms/step - loss: 0.2918 - val_loss: 0.2693\n",
      "Epoch 9/40\n",
      "500/500 [==============================] - 98s 195ms/step - loss: 0.2913 - val_loss: 0.2719\n",
      "Epoch 10/40\n",
      "500/500 [==============================] - 97s 194ms/step - loss: 0.2899 - val_loss: 0.2692\n",
      "Epoch 11/40\n",
      "500/500 [==============================] - 99s 198ms/step - loss: 0.2893 - val_loss: 0.2684\n",
      "Epoch 12/40\n",
      "500/500 [==============================] - 99s 197ms/step - loss: 0.2883 - val_loss: 0.2650\n",
      "Epoch 13/40\n",
      "500/500 [==============================] - 99s 198ms/step - loss: 0.2862 - val_loss: 0.2679\n",
      "Epoch 14/40\n",
      "500/500 [==============================] - 99s 198ms/step - loss: 0.2865 - val_loss: 0.2706\n",
      "Epoch 15/40\n",
      "500/500 [==============================] - 98s 196ms/step - loss: 0.2852 - val_loss: 0.2702\n",
      "Epoch 16/40\n",
      "500/500 [==============================] - 98s 196ms/step - loss: 0.2839 - val_loss: 0.2680\n",
      "Epoch 17/40\n",
      "500/500 [==============================] - 98s 196ms/step - loss: 0.2814 - val_loss: 0.2676\n",
      "Epoch 18/40\n",
      "500/500 [==============================] - 96s 192ms/step - loss: 0.2828 - val_loss: 0.2683\n",
      "Epoch 19/40\n",
      "500/500 [==============================] - 96s 191ms/step - loss: 0.2793 - val_loss: 0.2648\n",
      "Epoch 20/40\n",
      "500/500 [==============================] - 97s 193ms/step - loss: 0.2791 - val_loss: 0.2671\n",
      "Epoch 21/40\n",
      "500/500 [==============================] - 98s 197ms/step - loss: 0.2806 - val_loss: 0.2684\n",
      "Epoch 22/40\n",
      "500/500 [==============================] - 98s 196ms/step - loss: 0.2776 - val_loss: 0.2668\n",
      "Epoch 23/40\n",
      "500/500 [==============================] - 98s 196ms/step - loss: 0.2778 - val_loss: 0.2649\n",
      "Epoch 24/40\n",
      "500/500 [==============================] - 96s 192ms/step - loss: 0.2760 - val_loss: 0.2651\n",
      "Epoch 25/40\n",
      "500/500 [==============================] - 95s 190ms/step - loss: 0.2756 - val_loss: 0.2667\n",
      "Epoch 26/40\n",
      "500/500 [==============================] - 97s 193ms/step - loss: 0.2759 - val_loss: 0.2678\n",
      "Epoch 27/40\n",
      "500/500 [==============================] - 98s 196ms/step - loss: 0.2767 - val_loss: 0.2654\n",
      "Epoch 28/40\n",
      "500/500 [==============================] - 96s 193ms/step - loss: 0.2734 - val_loss: 0.2701\n",
      "Epoch 29/40\n",
      "500/500 [==============================] - 97s 194ms/step - loss: 0.2726 - val_loss: 0.2662\n",
      "Epoch 30/40\n",
      "500/500 [==============================] - 96s 193ms/step - loss: 0.2715 - val_loss: 0.2661\n",
      "Epoch 31/40\n",
      "500/500 [==============================] - 98s 196ms/step - loss: 0.2730 - val_loss: 0.2674\n",
      "Epoch 32/40\n",
      "500/500 [==============================] - 97s 194ms/step - loss: 0.2717 - val_loss: 0.2651\n",
      "Epoch 33/40\n",
      "500/500 [==============================] - 97s 195ms/step - loss: 0.2709 - val_loss: 0.2661\n",
      "Epoch 34/40\n",
      "500/500 [==============================] - 96s 193ms/step - loss: 0.2709 - val_loss: 0.2657\n",
      "Epoch 35/40\n",
      "500/500 [==============================] - 97s 193ms/step - loss: 0.2708 - val_loss: 0.2653\n",
      "Epoch 36/40\n",
      "500/500 [==============================] - 97s 193ms/step - loss: 0.2698 - val_loss: 0.2640\n",
      "Epoch 37/40\n",
      "500/500 [==============================] - 97s 194ms/step - loss: 0.2684 - val_loss: 0.2661\n",
      "Epoch 38/40\n",
      "500/500 [==============================] - 101s 202ms/step - loss: 0.2699 - val_loss: 0.2732\n",
      "Epoch 39/40\n",
      "500/500 [==============================] - 97s 195ms/step - loss: 0.2697 - val_loss: 0.2637\n",
      "Epoch 40/40\n",
      "500/500 [==============================] - 101s 201ms/step - loss: 0.2681 - val_loss: 0.2666\n"
     ]
    }
   ],
   "source": [
    "# リスト 6-40: ドロップアウトで正則化したGRUベースのモデルの訓練と評価\n",
    "from keras.models import Sequential\n",
    "from keras import layers\n",
    "from keras.optimizers import RMSprop\n",
    "\n",
    "model = Sequential()\n",
    "model.add(layers.GRU(32,\n",
    "                     dropout=0.2,\n",
    "                     recurrent_dropout=0.2,\n",
    "                     input_shape=(None, float_data.shape[-1])))\n",
    "model.add(layers.Dense(1))\n",
    "\n",
    "model.compile(optimizer=RMSprop(), loss='mae')\n",
    "history = model.fit_generator(train_gen,\n",
    "                              steps_per_epoch=500,\n",
    "                              epochs=40,\n",
    "                              validation_data=val_gen,\n",
    "                              validation_steps=val_steps)"
   ]
  },
  {
   "cell_type": "code",
   "execution_count": 36,
   "metadata": {},
   "outputs": [
    {
     "data": {
      "image/png": "[encoded data removed]",
      "text/plain": [
       "<Figure size 432x288 with 1 Axes>"
      ]
     },
     "metadata": {},
     "output_type": "display_data"
    }
   ],
   "source": [
    "# 結果をプロット\n",
    "loss = history.history['loss']\n",
    "val_loss = history.history['val_loss']\n",
    "\n",
    "epochs = range(len(loss))\n",
    "\n",
    "plt.figure()\n",
    "\n",
    "plt.plot(epochs, loss, 'bo', label='Training loss')\n",
    "plt.plot(epochs, val_loss, 'b', label='Validation loss')\n",
    "plt.title('Training and Validation loss')\n",
    "plt.legend()\n",
    "\n",
    "plt.show()"
   ]
  },
  {
   "cell_type": "code",
   "execution_count": null,
   "metadata": {},
   "outputs": [
    {
     "name": "stdout",
     "output_type": "stream",
     "text": [
      "Epoch 1/40\n",
      "500/500 [==============================] - 218s 436ms/step - loss: 0.3304 - val_loss: 0.2778\n",
      "Epoch 2/40\n",
      "500/500 [==============================] - 223s 447ms/step - loss: 0.3124 - val_loss: 0.2725\n",
      "Epoch 3/40\n",
      "500/500 [==============================] - 225s 450ms/step - loss: 0.3047 - val_loss: 0.2778\n",
      "Epoch 4/40\n",
      "500/500 [==============================] - 219s 439ms/step - loss: 0.3032 - val_loss: 0.2689\n",
      "Epoch 5/40\n",
      "500/500 [==============================] - 217s 435ms/step - loss: 0.2968 - val_loss: 0.2706\n",
      "Epoch 6/40\n",
      "500/500 [==============================] - 224s 448ms/step - loss: 0.2944 - val_loss: 0.2724\n",
      "Epoch 7/40\n",
      "500/500 [==============================] - 221s 442ms/step - loss: 0.2927 - val_loss: 0.2673\n",
      "Epoch 8/40\n",
      "500/500 [==============================] - 213s 426ms/step - loss: 0.2890 - val_loss: 0.2686\n",
      "Epoch 9/40\n",
      "500/500 [==============================] - 213s 425ms/step - loss: 0.2866 - val_loss: 0.2741\n",
      "Epoch 10/40\n",
      "500/500 [==============================] - 213s 426ms/step - loss: 0.2838 - val_loss: 0.2643\n",
      "Epoch 11/40\n",
      "500/500 [==============================] - 213s 426ms/step - loss: 0.2830 - val_loss: 0.2683\n",
      "Epoch 12/40\n",
      "500/500 [==============================] - 213s 426ms/step - loss: 0.2793 - val_loss: 0.2673\n",
      "Epoch 13/40\n",
      "500/500 [==============================] - 213s 426ms/step - loss: 0.2790 - val_loss: 0.2664\n",
      "Epoch 14/40\n",
      "500/500 [==============================] - 213s 427ms/step - loss: 0.2783 - val_loss: 0.2682\n",
      "Epoch 15/40\n",
      "500/500 [==============================] - 213s 426ms/step - loss: 0.2746 - val_loss: 0.2669\n",
      "Epoch 16/40\n",
      "500/500 [==============================] - 213s 426ms/step - loss: 0.2735 - val_loss: 0.2670\n",
      "Epoch 17/40\n",
      "500/500 [==============================] - 214s 427ms/step - loss: 0.2737 - val_loss: 0.2683\n",
      "Epoch 18/40\n",
      "500/500 [==============================] - 214s 428ms/step - loss: 0.2705 - val_loss: 0.2770\n",
      "Epoch 19/40\n",
      "500/500 [==============================] - 213s 425ms/step - loss: 0.2686 - val_loss: 0.2706\n",
      "Epoch 20/40\n",
      "500/500 [==============================] - 213s 426ms/step - loss: 0.2694 - val_loss: 0.2707\n",
      "Epoch 21/40\n",
      "500/500 [==============================] - 214s 427ms/step - loss: 0.2678 - val_loss: 0.2655\n",
      "Epoch 22/40\n",
      "500/500 [==============================] - 213s 427ms/step - loss: 0.2668 - val_loss: 0.2650\n",
      "Epoch 23/40\n",
      "500/500 [==============================] - 213s 425ms/step - loss: 0.2663 - val_loss: 0.2685\n",
      "Epoch 24/40\n",
      "500/500 [==============================] - 2856s 6s/step - loss: 0.2654 - val_loss: 0.2733\n",
      "Epoch 25/40\n",
      "500/500 [==============================] - 24592s 49s/step - loss: 0.2649 - val_loss: 0.2772\n",
      "Epoch 26/40\n",
      "500/500 [==============================] - 29022s 58s/step - loss: 0.2640 - val_loss: 0.2712\n",
      "Epoch 27/40\n",
      "500/500 [==============================] - 5848s 12s/step - loss: 0.2636 - val_loss: 0.2721\n",
      "Epoch 28/40\n",
      "500/500 [==============================] - 223s 445ms/step - loss: 0.2621 - val_loss: 0.2667\n",
      "Epoch 29/40\n",
      "500/500 [==============================] - 222s 445ms/step - loss: 0.2616 - val_loss: 0.2709\n",
      "Epoch 30/40\n",
      "500/500 [==============================] - 217s 434ms/step - loss: 0.2601 - val_loss: 0.2696\n",
      "Epoch 31/40\n",
      "500/500 [==============================] - 217s 434ms/step - loss: 0.2596 - val_loss: 0.2686\n",
      "Epoch 32/40\n",
      "500/500 [==============================] - 235s 471ms/step - loss: 0.2587 - val_loss: 0.2716\n",
      "Epoch 33/40\n",
      "500/500 [==============================] - 224s 447ms/step - loss: 0.2576 - val_loss: 0.2695\n",
      "Epoch 34/40\n",
      "500/500 [==============================] - 229s 459ms/step - loss: 0.2575 - val_loss: 0.2740\n",
      "Epoch 35/40\n",
      "164/500 [========>.....................] - ETA: 1:57 - loss: 0.2583"
     ]
    }
   ],
   "source": [
    "# リスト 6-41: ドロップアウトで正則化されたスタッキングGRUモデルでの訓練と評価\n",
    "from keras.models import Sequential\n",
    "from keras import layers\n",
    "from keras.optimizers import RMSprop\n",
    "\n",
    "model= Sequential()\n",
    "model.add(layers.GRU(32,\n",
    "                     dropout=0.1,\n",
    "                     recurrent_dropout=0.5,\n",
    "                     return_sequences=True,\n",
    "                     input_shape=(None, float_data.shape[-1])))\n",
    "model.add(layers.GRU(64, activation='relu',\n",
    "                     dropout=0.1,\n",
    "                     recurrent_dropout=0.5))\n",
    "model.add(layers.Dense(1))\n",
    "\n",
    "model.compile(optimizer=RMSprop(), loss='mae')\n",
    "history = model.fit_generator(train_gen,\n",
    "                              steps_per_epoch=500,\n",
    "                              epochs=40,\n",
    "                              validation_data=val_gen,\n",
    "                              validation_steps=val_steps)"
   ]
  },
  {
   "cell_type": "code",
   "execution_count": null,
   "metadata": {},
   "outputs": [],
   "source": [
    "# 結果をプロット\n",
    "loss = history.history['loss']\n",
    "val_loss = history.history['val_loss']\n",
    "\n",
    "epochs = range(len(loss))\n",
    "\n",
    "plt.figure()\n",
    "\n",
    "plt.plot(epochs, loss, 'bo', label='Training loss')\n",
    "plt.plot(epochs, val_loss, 'b', label='Validation loss')\n",
    "plt.title('Training and Validation loss')\n",
    "plt.legend()\n",
    "\n",
    "plt.show()"
   ]
  },
  {
   "cell_type": "code",
   "execution_count": null,
   "metadata": {},
   "outputs": [],
   "source": [
    "# リスト 6-42: 逆向きのシーケンスを用いたLSTMでの訓練と評価\n",
    "from keras.datasets import imdb\n",
    "from keras.preprocessing import sequence\n",
    "from keras import layers\n",
    "from keras.models import Sequential\n",
    "\n",
    "# 特徴量として考慮する単語の数\n",
    "max_features = 10000\n",
    "\n",
    "# max_features個の最も頻度の高い単語のうち、\n",
    "# この単語の数を残してテキストをカット\n",
    "max_len = 500\n",
    "\n",
    "# データを読み込む\n",
    "(x_train, y_train), (x_test, y_test) = \\\n",
    "    imdb.load_data(num_words=max_features)\n",
    "\n",
    "# シーケンスを逆向きにする\n",
    "x_train = [x[::-1] for x in x_train]\n",
    "x_test = [x[::-1] for x in x_test]\n",
    "\n",
    "# シーケンスをパディングする\n",
    "x_train = sequence.pad_sequences(x_train, maxlen=max_len)\n",
    "x_test = sequence.pad_sequences(x_test, maxlen=max_len)\n",
    "\n",
    "model = Sequential()\n",
    "model.add(layers.Embedding(max_features, 128))\n",
    "model.add(layers.LSTM(32))\n",
    "model.add(layers.Dense(1, activation='sigmoid'))\n",
    "\n",
    "model.compile(optimizer='rmsprop',\n",
    "              loss='binary_crossentropy',\n",
    "              metrics=['acc'])\n",
    "history = model.fit(x_train, y_train,\n",
    "                    epochs=10,\n",
    "                    batch_size=128,\n",
    "                    validation_split=0.2)"
   ]
  },
  {
   "cell_type": "code",
   "execution_count": null,
   "metadata": {},
   "outputs": [],
   "source": [
    "# リスト 6-43: LSTMベースの双方向RNNの訓練と評価\n",
    "model = Sequential()\n",
    "model.add(layers.Embedding(max_features, 32))\n",
    "model.add(layers.Bidirectional(layers.LSTM(32)))\n",
    "model.add(layers.Dense(1, activation='sigmoid'))\n",
    "\n",
    "model.compile(optimizer='rmsprop',\n",
    "              loss='binary_crossentropy',\n",
    "              metrics=['acc'])\n",
    "history = model.fit(x_train, y_train,\n",
    "                    epochs=10, batch_size=128, validation_split=0.2)"
   ]
  },
  {
   "cell_type": "code",
   "execution_count": null,
   "metadata": {},
   "outputs": [],
   "source": [
    "# リスト 6-44: GRUベースの双方向RNNの訓練と評価\n",
    "from keras.models import Sequential\n",
    "from keras import layers\n",
    "from keras.optimizers import RMSprop\n",
    "\n",
    "model = Sequential()\n",
    "model.add(layers.Bidirectional(layers.GRU(32),\n",
    "                               input_shape=(None, float_data.shape[-1])))\n",
    "model.add(layers.Dense(1))\n",
    "\n",
    "model.compile(optimizer=RMSprop(), loss='mae')\n",
    "history = model.fit_generator(train_gen,\n",
    "                              steps_per_epoch=500,\n",
    "                              epochs=40,\n",
    "                              validation_data=val_gen,\n",
    "                              validation_split=val_steps)"
   ]
  }
 ],
 "metadata": {
  "kernelspec": {
   "display_name": "Python 3",
   "language": "python",
   "name": "python3"
  },
  "language_info": {
   "codemirror_mode": {
    "name": "ipython",
    "version": 3
   },
   "file_extension": ".py",
   "mimetype": "text/x-python",
   "name": "python",
   "nbconvert_exporter": "python",
   "pygments_lexer": "ipython3",
   "version": "3.6.4"
  },
  "nav_menu": {},
  "toc": {
   "navigate_menu": true,
   "number_sections": true,
   "sideBar": true,
   "threshold": 6,
   "toc_cell": false,
   "toc_section_display": "block",
   "toc_window_display": false
  }
 },
 "nbformat": 4,
 "nbformat_minor": 2
}
